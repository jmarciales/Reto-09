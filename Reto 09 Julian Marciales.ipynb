{
 "cells": [
  {
   "cell_type": "markdown",
   "metadata": {},
   "source": [
    "# PROBLEMA 1\n",
    "Desarrollar un algoritmo que calcule el promedio de un arreglo de reales."
   ]
  },
  {
   "cell_type": "code",
   "execution_count": 7,
   "metadata": {},
   "outputs": [
    {
     "name": "stdout",
     "output_type": "stream",
     "text": [
      "El promedio es: 4.7\n"
     ]
    }
   ],
   "source": [
    "def calcular_promedio(arreglo):\n",
    "    # Verificamos que el arreglo no este vacío\n",
    "    if len(arreglo) == 0:\n",
    "        return \"El arreglo esta vacío\"\n",
    "    # Calculamos la suma de todos los elementos\n",
    "    suma = sum(arreglo)\n",
    "    # Calculamos el promedio dividiendo la suma entre el numero de elementos\n",
    "    promedio = suma / len(arreglo)\n",
    "    return promedio\n",
    "\n",
    "numeros = [2.5, 4.7, 6.3, 8.1, 1.9]\n",
    "resultado = calcular_promedio(numeros)\n",
    "print(\"El promedio es:\", resultado)"
   ]
  },
  {
   "cell_type": "markdown",
   "metadata": {},
   "source": [
    "# PROBLEMA 2 \n",
    "Desarrollar un algoritmo que calcule el producto punto de dos arreglos de números enteros (reales) de igual tamaño"
   ]
  },
  {
   "cell_type": "code",
   "execution_count": 4,
   "metadata": {},
   "outputs": [
    {
     "name": "stdout",
     "output_type": "stream",
     "text": [
      "El producto punto es: 40\n"
     ]
    }
   ],
   "source": [
    "def producto_punto(arreglo1, arreglo2):\n",
    "    # Verificamos que los arreglos tengan el mismo tamaño\n",
    "    if len(arreglo1) != len(arreglo2):\n",
    "        return \"Error: Los arreglos deben tener el mismo tamaño\"\n",
    "    \n",
    "    # Verificamos que los arreglos no estén vacíos\n",
    "    if len(arreglo1) == 0:\n",
    "        return \"Error: Los arreglos están vacíos\"\n",
    "    resultado = 0\n",
    "    for i in range(len(arreglo1)):\n",
    "        resultado += arreglo1[i] * arreglo2[i]\n",
    "    return resultado\n",
    "\n",
    "vector1 = [1, 2, 3, 4]\n",
    "vector2 = [2, 3, 4, 5]\n",
    "resultado = producto_punto(vector1, vector2)\n",
    "print(\"El producto punto es:\", resultado)"
   ]
  },
  {
   "cell_type": "markdown",
   "metadata": {},
   "source": [
    "# PROBLEMA 3 \n",
    "Hacer un algoritmo que deje al final de un arreglo de números todos los ceros que aparezcan en dicho arreglo."
   ]
  },
  {
   "cell_type": "code",
   "execution_count": null,
   "metadata": {},
   "outputs": [
    {
     "name": "stdout",
     "output_type": "stream",
     "text": [
      "Arreglo original: [5, 0, 2, 0, 3, 0, 4]\n",
      "Arreglo con ceros al final: [5, 2, 3, 4, 0, 0, 0]\n"
     ]
    }
   ],
   "source": [
    "def mover_ceros(arreglo):\n",
    "    if len(arreglo) == 0:\n",
    "        return \"El arreglo está vacío\"\n",
    "    \n",
    "    # Creamos una lista con los números diferentes de cero\n",
    "    numeros_no_cero = [num for num in arreglo if num != 0]\n",
    "    \n",
    "    # Contamos cuántos ceros hay\n",
    "    cantidad_ceros = arreglo.count(0)\n",
    "    \n",
    "    # Agregamos los ceros al final\n",
    "    resultado = numeros_no_cero + [0] * cantidad_ceros\n",
    "    \n",
    "    return resultado\n",
    "\n",
    "numeros = [5, 0, 2, 0, 3, 0, 4]\n",
    "resultado = mover_ceros(numeros)\n",
    "print(\"Arreglo original:\", numeros)\n",
    "print(\"Arreglo con ceros al final:\", resultado)"
   ]
  }
 ],
 "metadata": {
  "kernelspec": {
   "display_name": "Python 3",
   "language": "python",
   "name": "python3"
  },
  "language_info": {
   "codemirror_mode": {
    "name": "ipython",
    "version": 3
   },
   "file_extension": ".py",
   "mimetype": "text/x-python",
   "name": "python",
   "nbconvert_exporter": "python",
   "pygments_lexer": "ipython3",
   "version": "3.11.0"
  }
 },
 "nbformat": 4,
 "nbformat_minor": 2
}
